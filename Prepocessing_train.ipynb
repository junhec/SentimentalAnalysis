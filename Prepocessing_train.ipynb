{
 "cells": [
  {
   "cell_type": "code",
   "execution_count": 21,
   "metadata": {
    "collapsed": false
   },
   "outputs": [],
   "source": [
    "import multiprocessing\n",
    "import numpy as np\n",
    "import pandas as pd\n",
    "\n",
    "data=pd.read_csv('train.csv')\n",
    "data = data[np.isfinite(data['Score'])]\n",
    "Xtrain=data[['Text']]\n",
    "Ytrain=data['Score']\n",
    "\n",
    "Xtrain\n",
    "x=np.array(Xtrain)"
   ]
  },
  {
   "cell_type": "code",
   "execution_count": 25,
   "metadata": {
    "collapsed": false
   },
   "outputs": [],
   "source": [
    "with open('./reviewsss'+'.txt',\"w\") as f:\n",
    "    f.write(\"\\n\".join(\" \".join(map(str, t)) for t in x))"
   ]
  },
  {
   "cell_type": "code",
   "execution_count": null,
   "metadata": {
    "collapsed": false
   },
   "outputs": [],
   "source": [
    "data1=pd.read_csv('test.csv')\n",
    "test=data[data1['Id'].isin(data['Id'])]\n",
    "test\n",
    "# x=np.array(Xtest)\n",
    "# with open('./reviewtest'+'.txt',\"w\") as f:\n",
    "#     f.write(\"\\n\".join(\" \".join(map(str, t)) for t in x))"
   ]
  },
  {
   "cell_type": "code",
   "execution_count": null,
   "metadata": {
    "collapsed": true
   },
   "outputs": [],
   "source": []
  }
 ],
 "metadata": {
  "anaconda-cloud": {},
  "kernelspec": {
   "display_name": "Python 2",
   "language": "python",
   "name": "python2"
  },
  "language_info": {
   "codemirror_mode": {
    "name": "ipython",
    "version": 2
   },
   "file_extension": ".py",
   "mimetype": "text/x-python",
   "name": "python",
   "nbconvert_exporter": "python",
   "pygments_lexer": "ipython2",
   "version": "2.7.11"
  }
 },
 "nbformat": 4,
 "nbformat_minor": 1
}
